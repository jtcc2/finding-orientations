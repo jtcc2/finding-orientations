{
 "cells": [
  {
   "cell_type": "markdown",
   "metadata": {},
   "source": [
    "# Algorithms 5.1 and 5.2 - Solving the Quaternion Embedding Problem\n",
    "\n",
    "The paper presents algorithms solving the *Quaternion Embedding Problem*. This file contains implementations of Algorithms 5.1 and 5.2 for finding embeddings of quadratic orders within quaternion orders.\n",
    "\n",
    "**Algorithm 5.1** can return one embedding, return all embeddings, or determine if no such embeddings exist. It should be used when values of size roughly $N(I)^2 d$ are easy to factor (the paper assumes a factorization oracle). Here $N(I)$ is the norm of the smallest connecting ideal to $\\mathcal{O}_0$, which for a random order is about $\\sqrt{p}$, and $d$ is the norm of the generator of the quadratic order.  \n",
    "\n",
    "**Algorithm 5.2** can return one embedding or determine if none exist. In worst cases it will not terminate in a reasonable amount of time. On the plus side, the rerandomization trick means some hard factorizations can be skipped, so it can work with much larger parameters. For quadratic orders with discriminants less than $O(p)$ it is very fast on average, even for cryptographically sized $p$. Examples are included.  \n",
    "\n",
    "For only finding primitive embeddings see the file: `Experiments - Primitive solutions to Quaternion Embedding Problem.ipynb`\n",
    "\n",
    "We include our own implementation of Cornacchia's algorithm in `cornacchia.py` for finding all solutions to the equation $x^2 + qy^2 = v$ where $gcd(q,v)=1$."
   ]
  },
  {
   "cell_type": "markdown",
   "metadata": {},
   "source": [
    "## Algorithm 5.1"
   ]
  },
  {
   "cell_type": "code",
   "execution_count": 5,
   "metadata": {},
   "outputs": [],
   "source": [
    "from sage.all import ZZ, GF, lcm, sqrt, floor\n",
    "from cornacchia import all_cornacchia\n",
    "from numpy import argmax\n",
    "from hnf import lower_hnf_basis\n",
    "from ideals import small_equivalent_ideal\n",
    "\n",
    "def Fp_to_int(n):\n",
    "    \"\"\"\n",
    "    Returns element of GF(p) as integer in range (-p/2 ... +p/2]\n",
    "    \"\"\"\n",
    "    if ZZ(n) > n.parent().order() / 2: return ZZ(n) - n.parent().order()\n",
    "    return ZZ(n)\n",
    "\n",
    "def find_element_defining_embedding(O, d, t, all_slns=False, filter_func=None):\n",
    "    \"\"\"\n",
    "    Finds an element in quaternion order 'O' with trace 't' and norm 'd'. Set 'all_slns=True' to get all solutions.\n",
    "        A function can be provided as 'filter_func' which is called when a solution is found to see if it should be counted or not. We use this for filtering primitive solutions.\n",
    "    \"\"\"\n",
    "    slns = [] if all_slns else None\n",
    "    # Compute the connecting ideal, and find smaller equivalent ideal, to give right order with lower N\n",
    "    B = O.quaternion_algebra()\n",
    "    I = B.maximal_order() * O\n",
    "    J, y = small_equivalent_ideal(I)\n",
    "    O_new = J.right_order()\n",
    "    # Put basis in HNF\n",
    "    basis_hnf = lower_hnf_basis(B, O_new.basis())\n",
    "    e00, e01, e02, e03 = basis_hnf[0]\n",
    "    _,   e11, e12, e13 = basis_hnf[1]\n",
    "    _,   _,   e22, e23 = basis_hnf[2]\n",
    "    _,   _,   _,   e33 = basis_hnf[3]\n",
    "    if (e00 == 0) or (e11 == 0) or (e22 == 0) or (e33 == 0):\n",
    "        return slns\n",
    "    # Find alpha_0\n",
    "    alpha_0 = t / (2 * e00)\n",
    "    if (alpha_0 not in ZZ) or (d not in ZZ):\n",
    "        return slns\n",
    "    # Compute a, b, N\n",
    "    q, p = [ZZ(abs(l)) for l in B.invariants()]\n",
    "    N = lcm([e.denominator() for e in [e00,e01,e02,e03,e11,e12,e13,e22,e23,e33]])\n",
    "    N2 = N**2\n",
    "    # Find residues of alpha_1 mod p\n",
    "    Fp = GF(p)\n",
    "    sq_mod_p = Fp(d - (alpha_0 * e00)**2) / Fp(q)\n",
    "    rt1 = sqrt(sq_mod_p)\n",
    "    if rt1 not in Fp:\n",
    "        return slns\n",
    "    rt2 = -rt1\n",
    "    residues = [Fp_to_int((rt1 - Fp(alpha_0 * e01)) / Fp(e11)), Fp_to_int((rt2 - Fp(alpha_0 * e01)) / Fp(e11))]\n",
    "    # compute maximum value of k - for each residue\n",
    "    temp1 = d - (alpha_0**2)*(e00**2)\n",
    "    temp1_scaled = N2 * temp1\n",
    "    temp2 = sqrt(temp1 / q) - alpha_0*e01\n",
    "    ks = [floor((temp2 - ZZ(r)*e11)/(p*e11)) for r in residues]\n",
    "    # loop over k decreasing, for each residue\n",
    "    max_iter = sum([k + 1 for k in ks if k >= 0])\n",
    "    while max(ks) >= 0:\n",
    "        k_index = argmax(ks)\n",
    "        k = ks[k_index]\n",
    "        r = residues[k_index]\n",
    "        ks[k_index] = ks[k_index] - 1\n",
    "        # Compute u and v (v = RHS for Cornacchia)\n",
    "        alpha_1 = ZZ(r) + k*p\n",
    "        gamma_1 = alpha_0*e01 + alpha_1*e11\n",
    "        u = q * N2 * gamma_1**2\n",
    "        v = ZZ((temp1_scaled - u) / p)\n",
    "        # find all solutions to Cornacchia's\n",
    "        betas = all_cornacchia(q, v)\n",
    "        for beta_pair in betas:\n",
    "            # Check if this gives a solution with integral alpha_2 and alpha_3\n",
    "            alpha_2 = (beta_pair[0] - N*alpha_1*e12 - N*alpha_0*e02) / (N*e22)\n",
    "            alpha_3 = (beta_pair[1] - N*alpha_1*e13 - N*alpha_2*e23 - N*alpha_0*e03) / (N*e33)\n",
    "            if (alpha_2 in ZZ) and (alpha_3 in ZZ):\n",
    "                alpha = alpha_0*basis_hnf[0] + alpha_1*basis_hnf[1] + alpha_2*basis_hnf[2] + alpha_3*basis_hnf[3]\n",
    "                alpha_in_O = y * alpha * y**(-1) # map alpha back in to original order\n",
    "                valid_sln = True\n",
    "                if filter_func != None:\n",
    "                    valid_sln = filter_func(alpha_in_O, k)\n",
    "                if valid_sln:\n",
    "                    if all_slns: slns.append(alpha_in_O)\n",
    "                    if not all_slns: return alpha_in_O\n",
    "    return slns"
   ]
  },
  {
   "cell_type": "markdown",
   "metadata": {},
   "source": [
    "### Example 1:"
   ]
  },
  {
   "cell_type": "code",
   "execution_count": 6,
   "metadata": {},
   "outputs": [
    {
     "data": {
      "text/plain": [
       "[21/2 + 76000229/858*i + 94447/858*j - 2297/66*k,\n",
       " 21/2 + 24000073/858*i + 28355/858*j - 9169/66*k,\n",
       " 21/2 + 4000013/858*i + 114475/858*j - 3821/66*k,\n",
       " 21/2 + 1/858*i - 124843/858*j + 113/66*k,\n",
       " 21/2 - 1/858*i + 124843/858*j - 113/66*k]"
      ]
     },
     "execution_count": 6,
     "metadata": {},
     "output_type": "execute_result"
    }
   ],
   "source": [
    "p = 1000003\n",
    "B.<i,j,k> = QuaternionAlgebra(-1, -p)\n",
    "O = B.quaternion_order([1/2 + 13/2*j + 19*k, 1/858*i + 1714/429*j + 641/66*k, 13*j + 5*k, 33*k])\n",
    "\n",
    "d = 21174601658\n",
    "t = 21\n",
    "find_element_defining_embedding(O, d, t, all_slns=True)"
   ]
  },
  {
   "cell_type": "markdown",
   "metadata": {},
   "source": [
    "### Example 2: No solutions"
   ]
  },
  {
   "cell_type": "code",
   "execution_count": 7,
   "metadata": {},
   "outputs": [
    {
     "name": "stdout",
     "output_type": "stream",
     "text": [
      "None\n"
     ]
    }
   ],
   "source": [
    "d = 21174601658\n",
    "t = 0\n",
    "print(find_element_defining_embedding(O, d, t))"
   ]
  },
  {
   "cell_type": "markdown",
   "metadata": {},
   "source": [
    "## Algorithm 5.2 with examples $disc(\\mathbb{Z}[\\omega]) \\sim O(p)$"
   ]
  },
  {
   "cell_type": "code",
   "execution_count": 8,
   "metadata": {},
   "outputs": [],
   "source": [
    "from sage.all import matrix, diagonal_matrix, vector, is_pseudoprime, QQ, ZZ, GF, lcm, sqrt, log, ceil, floor, denominator, round, random_prime, next_prime, QuaternionAlgebra, kronecker, ceil, DiagonalQuadraticForm\n",
    "import itertools\n",
    "from numpy import argmax\n",
    "from cornacchia import all_cornacchia\n",
    "from hnf import lower_hnf_basis\n",
    "from algorithm_5_1 import Fp_to_int\n",
    "from random import randint\n",
    "\n",
    "def factors_easily(n, B=2**20):\n",
    "    \"\"\"\n",
    "    Given a number n, checks if a n is \"Cornacchia Friendly\" (= easily factorable)\n",
    "    \"\"\"\n",
    "    n = ZZ(n)\n",
    "    if n < 0: return False\n",
    "    if n < 2**160: return True\n",
    "    l,_ = n.factor(limit=B)[-1]\n",
    "    return l < 2**160 or is_pseudoprime(l)\n",
    "\n",
    "def quat_algs(p):\n",
    "    \"\"\"\n",
    "    Generate 3 isomorphic quaternion algebras ramified at p \\neq 2 and infity, with abs(i^2) small\n",
    "    \"\"\"\n",
    "    Bs = []\n",
    "    mod = 4\n",
    "    if p % 4 == 3:\n",
    "        Bs.append(QuaternionAlgebra(-1, -p))\n",
    "    q = 1\n",
    "    while len(Bs) < 3:\n",
    "        q = next_prime(q)\n",
    "        if (-q) % mod == 1 and kronecker(-q, p) == -1:\n",
    "            Bs.append(QuaternionAlgebra(-q, -p))\n",
    "    assert all([B.ramified_primes() == [p] for B in Bs ])\n",
    "    return Bs\n",
    "\n",
    "def isomorphism_gamma(B_old, B):\n",
    "    \"\"\"\n",
    "    Defines an isomorphism of quaternion algebras, See Lemma 10 [EPSV23]\n",
    "    \"\"\"\n",
    "    if B_old == B:\n",
    "        return B(1), B(1)\n",
    "    i_old, j_old, k_old = B_old.gens()\n",
    "    q_old = -ZZ(i_old**2)\n",
    "    i, j, k = B.gens()\n",
    "    q = -ZZ(i**2) \n",
    "    p = -ZZ(j**2)\n",
    "    x, y = DiagonalQuadraticForm(QQ, [1,p]).solve(q_old/q)\n",
    "    return x + j*y, (x + j_old*y)**(-1)\n",
    "\n",
    "def eval_isomorphism(alpha, B, gamma):\n",
    "    \"\"\"\n",
    "    Evaluates a quaternion in an isomorphism of quaternion algebras\n",
    "    \"\"\"\n",
    "    i, j, k = B.gens()\n",
    "    return sum([coeff*b for coeff, b in zip(alpha.coefficient_tuple(), [1, i*gamma, j, k*gamma])])\n",
    "\n",
    "def find_element_defining_embedding_randomized(O, d, t, filter_func=None):\n",
    "    \"\"\"\n",
    "        Continuously randomizes basis for the order O, until an element of trace t norm d can be found without doing any hard factorizations.\n",
    "            Maps the element back into the starting order and returns it.\n",
    "        \n",
    "        Returns two values:\n",
    "        - The element of trace t norm d.\n",
    "        - A \"confidence\" boolean.\n",
    "            If no element found, True if we're certain it's not possible an element exists. False if it still might be possible as we may have skipped it.\n",
    "    \"\"\"\n",
    "    def find_element_defining_embedding_with_skips(O, d, t):\n",
    "        \"\"\"\n",
    "        Attempts to find an element in quaternion order 'O' with trace 't' and norm 'd', but may miss solutions.\n",
    "            In solving x^2+|a|y^2=v with Coracchias, skips if v if it is hard to factor.\n",
    "            Returns solution, and 'confidence' boolean that is True if no solutions have been skipped.\n",
    "        \"\"\"\n",
    "        # Put basis in HNF\n",
    "        basis_hnf = lower_hnf_basis(B, O.basis())\n",
    "        e00, e01, e02, e03 = basis_hnf[0]\n",
    "        _,   e11, e12, e13 = basis_hnf[1]\n",
    "        _,   _,   e22, e23 = basis_hnf[2]\n",
    "        _,   _,   _,   e33 = basis_hnf[3]\n",
    "        if (e00 == 0) or (e11 == 0) or (e22 == 0) or (e33 == 0):\n",
    "            return None, True\n",
    "        # Find alpha_0\n",
    "        alpha_0 = t / (2 * e00)\n",
    "        if (alpha_0 not in ZZ) or (d not in ZZ):\n",
    "            # If none works, we're confident no solution exists in any conjugate order\n",
    "            return None, True\n",
    "        # Compute N\n",
    "        N = lcm([e.denominator() for e in [e00,e01,e02,e03,e11,e12,e13,e22,e23,e33]])\n",
    "        N2 = N**2\n",
    "        # Find residues of alpha_1 mod p\n",
    "        Fp = GF(p)\n",
    "        sq_mod_p = Fp(d - (alpha_0 * e00)**2) / Fp(q)\n",
    "        rt1 = sqrt(sq_mod_p)\n",
    "        if rt1 not in Fp:\n",
    "            return None, True\n",
    "        rt2 = -rt1\n",
    "        residues = [Fp_to_int((rt1 - Fp(alpha_0 * e01)) / Fp(e11)), Fp_to_int((rt2 - Fp(alpha_0 * e01)) / Fp(e11))]\n",
    "        # compute maximum value of k - for each residue\n",
    "        temp1 = d - (alpha_0**2)*(e00**2)\n",
    "        temp1_scaled = N2 * temp1\n",
    "        temp2 = sqrt(temp1 / q) - alpha_0*e01\n",
    "        ks = [floor((temp2 - ZZ(r)*e11)/(p*e11)) for r in residues]\n",
    "        # loop over k decreasing, for each residue\n",
    "        max_iter = sum([k + 1 for k in ks if k >= 0])\n",
    "        skipped_v = False\n",
    "        while max(ks) >= 0:\n",
    "            k_index = argmax(ks)\n",
    "            k = ks[k_index]\n",
    "            r = residues[k_index]\n",
    "            ks[k_index] = ks[k_index] - 1\n",
    "            # Compute u and v (v = RHS for Cornacchia)\n",
    "            alpha_1 = ZZ(r) + k*p\n",
    "            gamma_1 = alpha_0*e01 + alpha_1*e11\n",
    "            u = q * N2 * gamma_1**2\n",
    "            v = ZZ((temp1_scaled - u) / p)\n",
    "            if factors_easily(v):\n",
    "                # find all solutions to Cornacchia's\n",
    "                betas = all_cornacchia(q, v)\n",
    "                for beta_pair in betas:\n",
    "                    # Check if this gives a solution with integral alpha_2 and alpha_3\n",
    "                    alpha_2 = (beta_pair[0] - N*alpha_1*e12 - N*alpha_0*e02) / (N*e22)\n",
    "                    alpha_3 = (beta_pair[1] - N*alpha_1*e13 - N*alpha_2*e23 - N*alpha_0*e03) / (N*e33)\n",
    "                    if (alpha_2 in ZZ) and (alpha_3 in ZZ):\n",
    "                        alpha = alpha_0*basis_hnf[0] + alpha_1*basis_hnf[1] + alpha_2*basis_hnf[2] + alpha_3*basis_hnf[3]\n",
    "                        valid_sln = True\n",
    "                        if filter_func != None:\n",
    "                            valid_sln = filter_func(alpha, k)\n",
    "                        if valid_sln:\n",
    "                            return alpha, (not skipped_v)\n",
    "            else:\n",
    "                skipped_v = True\n",
    "        # If we didn't skip any v's we know no solution exists\n",
    "        return None, (not skipped_v)\n",
    "\n",
    "    p = -ZZ(O.quaternion_algebra().gens()[1]**2)\n",
    "    Bs = quat_algs(p)\n",
    "    for B in Bs:\n",
    "        # The maximal order with small denominator O_0\n",
    "        O0 = B.maximal_order()\n",
    "        # Compute isomorphism between the quat algebras\n",
    "        gamma, gamma_inv = isomorphism_gamma(O.quaternion_algebra(), B)\n",
    "        # Transfer the maximal order to new quaternion algebra\n",
    "        O_in_new_quatalg = B.quaternion_order([eval_isomorphism(alpha, B, gamma) for alpha in O.gens()])\n",
    "        print(f\"\\nFinding solution in {O_in_new_quatalg}\")\n",
    "        q, p = [ZZ(abs(l)) for l in B.invariants()]\n",
    "        # Find connecting ideal\n",
    "        I = O0 * O_in_new_quatalg\n",
    "        I = I * denominator(I.norm())\n",
    "        # Reduced basis to find other small equivalent ideals, which gives suitable isomorphisms of O\n",
    "        basis_hnf = lower_hnf_basis(B, I.basis())\n",
    "        M = matrix(QQ, [ai.coefficient_tuple() for ai in basis_hnf])\n",
    "        S = 2**ceil(log(p*q, 2))\n",
    "        D = diagonal_matrix(round(S * sqrt(g.reduced_norm())) for g in B.basis())\n",
    "        reduced_basis = (M * D).LLL() * ~D\n",
    "        # Define constants for conjugating order\n",
    "        used = []\n",
    "        max_size = round(p**(1/1.8),5) + 10\n",
    "        bound = max(round(log(p,2)/10), 10)\n",
    "        # Try a bunch of small connecting ideals\n",
    "        for (a1,a2,a3,a4) in itertools.product(range(0,bound+1), range(-bound,bound+1), range(-bound,bound+1), range(-bound,bound+1)):\n",
    "            coeffvec = vector(QQ, [a1,a2,a3,a4])\n",
    "            y = coeffvec * reduced_basis * vector(B.basis())\n",
    "            Jnorm = y.reduced_norm() / I.norm()\n",
    "            if y in used or Jnorm > max_size:\n",
    "                continue\n",
    "            used.append(y)\n",
    "            y = y.conjugate() / I.norm()\n",
    "            J = I * y\n",
    "            beta, confidence = find_element_defining_embedding_with_skips(J.right_order(), d, t)\n",
    "            if beta:\n",
    "                beta_new =  y * beta * y**(-1)\n",
    "                return eval_isomorphism(beta_new, O.quaternion_algebra(), gamma_inv)\n",
    "            else:\n",
    "                if confidence: return None, True\n",
    "    return None, False"
   ]
  },
  {
   "cell_type": "markdown",
   "metadata": {},
   "source": [
    "All examples we give below are for cryptographically sized $p$ with the discriminant of the quadratic order approximately the size of $p$."
   ]
  },
  {
   "cell_type": "markdown",
   "metadata": {},
   "source": [
    "### Example 1:\n",
    "\n",
    "We can sample a trace zero element as follows"
   ]
  },
  {
   "cell_type": "code",
   "execution_count": 9,
   "metadata": {},
   "outputs": [],
   "source": [
    "def small_trace0(O):\n",
    "    \"\"\"\n",
    "    Generate a random short element of O with trace 0 (this is only for used for testing)\n",
    "    \"\"\"\n",
    "    M_O = Matrix(QQ, [ai.coefficient_tuple() for ai in O.gens()])\n",
    "    M_t0 = Matrix([row[1:] for row in M_O[1:]])\n",
    "    i,j,k = O.quaternion_algebra().gens()\n",
    "    p = -ZZ(j^2)\n",
    "    q = -ZZ(i^2)        \n",
    "    S = 2**ceil(log(p*q, 2))\n",
    "    D = diagonal_matrix(round(S * sqrt(g.reduced_norm())) for g in [i,j,k])\n",
    "    shortM_t0 = (M_t0 * D).LLL() * ~D\n",
    "    bound = floor(p^(1/7.5)) # Should make elements around size p (or slightly smaller than)\n",
    "    coeffvec = vector(QQ, [randint(-bound, bound) for _ in range(3)])\n",
    "    omega = coeffvec*shortM_t0*vector([i,j,k])\n",
    "    return omega"
   ]
  },
  {
   "cell_type": "markdown",
   "metadata": {},
   "source": [
    "For $250$ bit prime $p$, and a random order $\\mathcal{O}$ we sample a random element giving discriminant close to $p$, and use our algorithm to recover it:"
   ]
  },
  {
   "cell_type": "code",
   "execution_count": 10,
   "metadata": {},
   "outputs": [],
   "source": [
    "p = next_prime(2^250)\n",
    "while p%4 != 3:\n",
    "    p = next_prime(p)\n",
    "B = QuaternionAlgebra(-1, -p)\n",
    "O0 = B.maximal_order()\n",
    "i,j,k = B.gens()\n",
    "O = B.quaternion_order((1/2 + 1/2*j + 5312503554041246563877374554369270532*k, 1/41596753742804676578982348015068861470*i + 5101459939357330973899243766421925768/20798376871402338289491174007534430735*j + 454343285072474849939624336299261232984629048508402945760071971088381943711/41596753742804676578982348015068861470*k, j + 10625007108082493127754749108738541064*k, 20798376871402338289491174007534430735*k))\n",
    "\n",
    "omega = small_trace0(O)\n",
    "d = omega.reduced_norm()\n",
    "t = omega.reduced_trace()"
   ]
  },
  {
   "cell_type": "code",
   "execution_count": 11,
   "metadata": {},
   "outputs": [
    {
     "name": "stdout",
     "output_type": "stream",
     "text": [
      "\n",
      "Finding solution in Order of Quaternion Algebra (-1, -1809251394333065553493296640760748560207343510400633813116524750123642651047) with base ring Rational Field with basis (1/2 + 1/2*j + 5312503554041246563877374554369270532*k, 1/41596753742804676578982348015068861470*i + 5101459939357330973899243766421925768/20798376871402338289491174007534430735*j + 454343285072474849939624336299261232984629048508402945760071971088381943711/41596753742804676578982348015068861470*k, j + 10625007108082493127754749108738541064*k, 20798376871402338289491174007534430735*k)\n"
     ]
    },
    {
     "data": {
      "text/plain": [
       "1048106827405728162616907686812226712536483474650420676505816475483609578/20798376871402338289491174007534430735*i + 41549232588444294597371750840757188/20798376871402338289491174007534430735*j + 26410973976346054086050907419311328/20798376871402338289491174007534430735*k"
      ]
     },
     "execution_count": 11,
     "metadata": {},
     "output_type": "execute_result"
    }
   ],
   "source": [
    "rec = find_element_defining_embedding_randomized(O, d, t)\n",
    "rec"
   ]
  },
  {
   "cell_type": "markdown",
   "metadata": {},
   "source": [
    "### Example 2: No solutions - determined immediatley\n",
    "\n",
    "In some cases we can be confident it has no solutions. E.g. If setting $\\alpha_0$ for the trace doesn't give an $\\alpha_0 \\in \\mathbb{Z}$."
   ]
  },
  {
   "cell_type": "code",
   "execution_count": 12,
   "metadata": {},
   "outputs": [
    {
     "name": "stdout",
     "output_type": "stream",
     "text": [
      "\n",
      "Finding solution in Order of Quaternion Algebra (-1, -1809251394333065553493296640760748560207343510400633813116524750123642651047) with base ring Rational Field with basis (1/2 + 1/2*j + 5312503554041246563877374554369270532*k, 1/41596753742804676578982348015068861470*i + 5101459939357330973899243766421925768/20798376871402338289491174007534430735*j + 454343285072474849939624336299261232984629048508402945760071971088381943711/41596753742804676578982348015068861470*k, j + 10625007108082493127754749108738541064*k, 20798376871402338289491174007534430735*k)\n"
     ]
    },
    {
     "data": {
      "text/plain": [
       "(None, True)"
      ]
     },
     "execution_count": 12,
     "metadata": {},
     "output_type": "execute_result"
    }
   ],
   "source": [
    "d = 13385751525286023724122722290538230793986387607736069527954467367683793\n",
    "rec = find_element_defining_embedding_randomized(O, d, 0)\n",
    "rec"
   ]
  },
  {
   "cell_type": "markdown",
   "metadata": {},
   "source": [
    "### Example 3: No solutions - takes a few randomizations\n",
    "\n",
    "Another way we can be confident no solutions exist, is if for one rerandomization, we do not skip any of the $v$'s and still do not find a solution. This happens with the following example (takes about $40$ seconds):"
   ]
  },
  {
   "cell_type": "code",
   "execution_count": 13,
   "metadata": {},
   "outputs": [
    {
     "name": "stdout",
     "output_type": "stream",
     "text": [
      "\n",
      "Finding solution in Order of Quaternion Algebra (-1, -1809251394333065553493296640760748560207343510400633813116524750123642651047) with base ring Rational Field with basis (1/2 + 1/2*j + 5312503554041246563877374554369270532*k, 1/41596753742804676578982348015068861470*i + 5101459939357330973899243766421925768/20798376871402338289491174007534430735*j + 454343285072474849939624336299261232984629048508402945760071971088381943711/41596753742804676578982348015068861470*k, j + 10625007108082493127754749108738541064*k, 20798376871402338289491174007534430735*k)\n"
     ]
    },
    {
     "data": {
      "text/plain": [
       "(None, True)"
      ]
     },
     "execution_count": 13,
     "metadata": {},
     "output_type": "execute_result"
    }
   ],
   "source": [
    "d = 13385751525286023724122722290538230793986387607736069527954467367683794\n",
    "rec = find_element_defining_embedding_randomized(O, d, 0)\n",
    "rec"
   ]
  },
  {
   "cell_type": "markdown",
   "metadata": {},
   "source": [
    "Note that when it doesn't terminate, it means either means it is unlikely there is a solution, or the parameters are too big that too many values cannot be factorized and are being skipped."
   ]
  }
 ],
 "metadata": {
  "kernelspec": {
   "display_name": "SageMath 9.8",
   "language": "sage",
   "name": "sagemath-9.8"
  },
  "language_info": {
   "codemirror_mode": {
    "name": "ipython",
    "version": 3
   },
   "file_extension": ".py",
   "mimetype": "text/x-python",
   "name": "python",
   "nbconvert_exporter": "python",
   "pygments_lexer": "ipython3",
   "version": "3.11.1"
  }
 },
 "nbformat": 4,
 "nbformat_minor": 2
}
