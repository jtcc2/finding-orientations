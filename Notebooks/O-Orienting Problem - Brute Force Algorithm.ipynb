{
 "cells": [
  {
   "cell_type": "markdown",
   "metadata": {},
   "source": [
    "# $\\mathfrak{O}$-Orienting Problem - Brute Force Algorithm\n",
    "\n",
    "The paper presents an algorithm to solve the *$\\mathfrak{O}$-Orienting Problem* given an oracle for the *Decision $\\mathfrak{O}$-Orienting Problem*. It is not currently known whether an efficient implementation of the oracle is possible. Below we provide an algorithm for the *$\\mathfrak{O}$-Orienting Problem* using a brute force algorithm taking the place of the oracle.\n",
    "\n",
    "We assume the order $\\mathfrak{O}$ is given with a trace zero generator, $\\mathbb{Z}[\\sqrt{-d}]$. If your generator is not trace zero, you can translate it to either trace zero or $1/2$. In the case of $1/2$, the order $\\mathbb{Z}+2\\mathfrak{O}$ is also oriented and does have a trace zero generator.\n",
    "\n",
    "**Note:** This code has not been optimized, its main purpose is for finding simple examples."
   ]
  },
  {
   "cell_type": "code",
   "execution_count": 1,
   "metadata": {
    "vscode": {
     "languageId": "python"
    }
   },
   "outputs": [],
   "source": [
    "def get_isogeny(E, q, i):\n",
    "    \"\"\"\n",
    "    Returns the 'i'th isogeny of degree 'q' from elliptic curve 'E'.\n",
    "    Note that the base field of 'E' must be large enough for a basis of the q-torsion to exist.\n",
    "    \"\"\"\n",
    "    P, Q = E.torsion_basis(q) # Gives error if field extension too small\n",
    "    return E.isogeny(P + i*Q, algorithm=\"factored\")\n",
    "\n",
    "def get_automorphisms_of_order(E, ord):\n",
    "    \"\"\"\n",
    "    Returns automorphism of order 'ord' on curve E. Returns None if such an automorphism doesn't exist.\n",
    "    \"\"\"\n",
    "    for iso in E.isomorphisms(E):\n",
    "        sf = iso.scaling_factor()\n",
    "        if (sf != 1 and sf != -1 and sf**ord == -1):\n",
    "            return iso\n",
    "    return None\n",
    "\n",
    "def is_endo_trace_zero(endomorphism):\n",
    "    \"\"\"\n",
    "    Returns true if endomorphism has trace zero, false otherwise.\n",
    "    \"\"\"\n",
    "    return endomorphism == -endomorphism.dual()\n",
    "\n",
    "def find_endomorphisms_from_degrees(start_curve, remaining_qs, on_found_endo=None, isog_chain=[]):\n",
    "    \"\"\"\n",
    "    Finds endomorphisms by walking in isogeny graph with a sequence of given degrees.\n",
    "\n",
    "    Given starting curve 'start_curve',\n",
    "        a list of isogenies representing a walk from the starting curve 'isog_chain' to the current curve,\n",
    "        and a list of primes q, 'remaining_qs', where it remains to evaluate all possible q-isogenies,\n",
    "        recursively performs a depth-first search of the isogeny graph to find endomorphisms.\n",
    "    Input 'on_found_endo' provides a function that is called whenever an endomorphism is found. If it returns True, we stop.\n",
    "\n",
    "    Example:\n",
    "        evaluate_path(E, [3,3,7])\n",
    "        Explore all paths of 3-isogenies from E, then from those codomains all 3-isogenies, and from those codomains all 7-isogenies, recording all endomorphisms.\n",
    "    \"\"\"\n",
    "    # Take the next prime from the 'remaining_qs' list\n",
    "    if remaining_qs == []:\n",
    "        return\n",
    "    q = remaining_qs[0]\n",
    "    remaining_qs = remaining_qs[1:]\n",
    "\n",
    "    # We continue walking from the codomain of the last isogeny\n",
    "    cur_curve = start_curve if len(isog_chain) == 0 else isog_chain[-1].codomain()\n",
    "\n",
    "    for i in range(0, q+1):\n",
    "        # Walk to next curve\n",
    "        phi = get_isogeny(cur_curve, q, i)\n",
    "        new_curve = phi.codomain()\n",
    "        if (new_curve.is_isomorphic(start_curve) == True):\n",
    "            # We have found an endomorphism, add it to the list\n",
    "            iso = new_curve.isomorphism_to(start_curve)\n",
    "            endo = phi\n",
    "            for j in range(0, len(isog_chain)):\n",
    "                endo = endo.pre_compose(isog_chain[-j-1])\n",
    "            endo = endo.post_compose(iso)\n",
    "            # Call function to handle finding an endomorphism\n",
    "            if on_found_endo(endo):\n",
    "                return True\n",
    "        # Perform next step in walk\n",
    "        new_isog_chain = isog_chain.copy()\n",
    "        new_isog_chain.append(phi)\n",
    "        if find_endomorphisms_from_degrees(start_curve, remaining_qs, on_found_endo, new_isog_chain):\n",
    "            return True\n",
    "\n",
    "def solve_orienting_problem(E, d, find_all=True, find_suborder_orientations=True, do_print=True):\n",
    "    \"\"\"\n",
    "    Solves the O-Orienting Problem for a curve 'E' and imaginary quadratic order in the form Z[w]=Z[sqrt{-d}], i.e. generator w has trace 0 and norm 'd'.\n",
    "    Note:\n",
    "    - E must be given over a large enough field extension so a basis for the q-torsion exists for each q | d.\n",
    "    - If d has too many factors the algorithm will not terminate.\n",
    "    \"\"\"\n",
    "    # Get special automorphisms - these are automorphisms which can change the trace of the resulting endomorphism\n",
    "    auts = []\n",
    "    if E.j_invariant() == 1728:\n",
    "        auts.append(get_automorphisms_of_order(E, 2))\n",
    "    if E.j_invariant() == 0:\n",
    "        aut = get_automorphisms_of_order(E, 3)\n",
    "        auts.append(aut, aut**2)\n",
    "\n",
    "    # Construct the array of isogeny degrees we want in the isogeny path. Factors of d could appear multiple times depending on exponent.\n",
    "    qs = factor(d)\n",
    "    remaining_qs = []\n",
    "    for q in qs:\n",
    "        remaining_qs.extend([q[0]] * q[1])\n",
    "\n",
    "    # Find all isogeny paths with degrees given by 'remaining_qs' array (or partial paths) which give endomorphisms\n",
    "    #    The following function is called when an endomorphism is found\n",
    "    valid_endomoprhisms = []\n",
    "    endomorphisms_orienting_suborders = []\n",
    "    def on_found_endo(endo):\n",
    "        # Check trace is zero, or if is there an automorphism that makes it trace zero\n",
    "        trace_zero = is_endo_trace_zero(endo)\n",
    "        if not trace_zero:\n",
    "            aut_trace_zero = [is_endo_trace_zero(endo.post_compose(aut)) for aut in auts]\n",
    "            if True in aut_trace_zero:\n",
    "                endo = endo.post_compose(auts[aut_trace_zero.index(True)])\n",
    "                trace_zero = True\n",
    "        if not trace_zero:\n",
    "            if do_print: print(\"Found endomorphism of degree: \" + str(endo.degree()) + \" - not trace zero\")\n",
    "            return False\n",
    "        # Check the degree is what we want\n",
    "        if endo.degree() == d:\n",
    "            if do_print: print(\"Found trace zero endomorphism of correct degree!\")\n",
    "            valid_endomoprhisms.append(endo)\n",
    "            if not find_all: return True\n",
    "        else:\n",
    "            if do_print: print(\"Found trace zero endomorphism found of smaller degree: \" + str(endo.degree()) + \" so a suborder might orient the curve.\")\n",
    "            endomorphisms_orienting_suborders.append(endo)\n",
    "\n",
    "    find_endomorphisms_from_degrees(E, remaining_qs, on_found_endo)\n",
    "\n",
    "    if do_print:\n",
    "        print()\n",
    "        if len(valid_endomoprhisms) > 0:\n",
    "            print(\"Success, found \" + str(len(valid_endomoprhisms)) + \" trace zero endomorphisms of correct degree.\")\n",
    "        if len(valid_endomoprhisms) == 0 and len(endomorphisms_orienting_suborders) > 0:\n",
    "            print(\"Failed to find trace zero endomorphisms of correct degree. But, at least\" + str(len(endomorphisms_orienting_suborders)) + \" endomorphisms of smaller degree exist, each orienting a suborder.\")\n",
    "        if len(valid_endomoprhisms) == 0 and len(endomorphisms_orienting_suborders) == 0:\n",
    "            print(\"Failed to find any orientations.\")\n",
    "\n",
    "    return valid_endomoprhisms, endomorphisms_orienting_suborders"
   ]
  },
  {
   "cell_type": "markdown",
   "metadata": {},
   "source": [
    "## Example: $E_0$\n",
    "\n",
    "Typically in isogeny-based cryptography we take $p \\equiv 3 \\text{ mod } 4$, and work from the starting curve $E_0: y^2 = x^3 + x$. Then the endomorphism ring is $\\langle \\frac{1+j}{2}, \\frac{1+i}{2}, j, k \\rangle_{\\mathbb{Z}} \\subset B_{p, \\infty}$. Suppose we have $p = 78539$, element $\\frac{i+j}{2}$ lies in the endomorphism ring and has reduced norm $\\frac{p+1}{4} = 19635 = 3\\cdot 5\\cdot 7\\cdot 11\\cdot 17$. Hence the quadratic order $\\mathbb{Z}[\\sqrt{-19635}]$ should orient $E_0$.\n",
    "\n",
    "We use our code to check this. Note this is particularity nice as all the factors of $d$ divide $p+1$ by construction, so we don't need to work over an extension field to evaluate the isogenies."
   ]
  },
  {
   "cell_type": "code",
   "execution_count": 2,
   "metadata": {
    "vscode": {
     "languageId": "python"
    }
   },
   "outputs": [
    {
     "name": "stdout",
     "output_type": "stream",
     "text": [
      "Found trace zero endomorphism of correct degree!\n",
      "\n",
      "Success, found 1 trace zero endomorphisms of correct degree.\n"
     ]
    },
    {
     "data": {
      "text/plain": [
       "([Composite morphism of degree 19635 = 3*5*7*11*17:\n",
       "    From: Elliptic Curve defined by y^2 = x^3 + x over Finite Field in z2 of size 78539^2\n",
       "    To:   Elliptic Curve defined by y^2 = x^3 + x over Finite Field in z2 of size 78539^2],\n",
       " [])"
      ]
     },
     "execution_count": 2,
     "metadata": {},
     "output_type": "execute_result"
    }
   ],
   "source": [
    "p = 78539\n",
    "Fp2 = GF(p^2)\n",
    "E = EllipticCurve(Fp2, [1,0])\n",
    "d = 19635\n",
    "\n",
    "solve_orienting_problem(E, d, find_all=False, find_suborder_orientations=True, do_print=True)"
   ]
  },
  {
   "cell_type": "markdown",
   "metadata": {},
   "source": [
    "## Example 2\n",
    "\n",
    "To setup this example, we performed a short walk from $E_0$ to a curve $E$, found the endomorphism ring of $E$ by pushing the known endomorphism ring of $E_0$ through the isogeny. We then picked a small trace-zero element of the endomorphism ring and factorized its norm $d$. And we found the smallest field extension so each prime factor $q \\mid d$ has a $q$-torsion basis of $E$ defined. These are the parameters we obtained:\n",
    "\n",
    "We use the prime $p = 2\\cdot 509 -1 = 1019$. The curve $E: y^2 = x^3 + (125z + 362)x^2 + x$ where $z = \\sqrt{-1}$ in $\\mathbb{F}_{p^2}$. This curve is oriented by $\\mathbb{Z}[\\sqrt{-d}]$ where $d = 3^4 \\cdot 5 \\cdot 11$ and the smallest field extension we can use to evaluate $3, 5$ and $11$-isogenies is $\\mathbb{F}_p^{10}$.\n",
    "\n",
    "Our code recovers the endomorphism defining the orientation:"
   ]
  },
  {
   "cell_type": "code",
   "execution_count": 3,
   "metadata": {
    "vscode": {
     "languageId": "python"
    }
   },
   "outputs": [
    {
     "name": "stdout",
     "output_type": "stream",
     "text": [
      "Found endomorphism of degree: 4455 - not trace zero\n",
      "Found endomorphism of degree: 4455 - not trace zero\n",
      "Found endomorphism of degree: 4455 - not trace zero\n",
      "Found endomorphism of degree: 4455 - not trace zero\n",
      "Found endomorphism of degree: 81 - not trace zero\n",
      "Found endomorphism of degree: 4455 - not trace zero\n",
      "...\n",
      "Found endomorphism of degree: 4455 - not trace zero\n",
      "Found endomorphism of degree: 81 - not trace zero\n",
      "Found endomorphism of degree: 4455 - not trace zero\n",
      "Found endomorphism of degree: 4455 - not trace zero\n",
      "Found endomorphism of degree: 4455 - not trace zero\n",
      "Found endomorphism of degree: 405 - not trace zero\n",
      "Found trace zero endomorphism of correct degree!\n",
      "\n",
      "Success, found 1 trace zero endomorphisms of correct degree.\n",
      "True\n",
      "True\n"
     ]
    }
   ],
   "source": [
    "p = 1019\n",
    "d = 3^4 * 5 * 11\n",
    "\n",
    "# We define the curve over Fp2\n",
    "F2.<z> = GF(p^2, modulus=x^2+1)\n",
    "E = EllipticCurve(F2, [0, 125*z + 362, 0, 1, 0])\n",
    "# Then change the base field to give correct field extension\n",
    "F10 = F2.extension(5)\n",
    "E = E.change_ring(F10)\n",
    "\n",
    "valid_endomoprhisms, _ = solve_orienting_problem(E, d, find_all=False, find_suborder_orientations=True, do_print=True)\n",
    "endomorphism = valid_endomoprhisms[0]\n",
    "\n",
    "print(endomorphism.degree() == d)\n",
    "print(is_endo_trace_zero(endomorphism))\n"
   ]
  }
 ],
 "metadata": {
  "kernelspec": {
   "display_name": "SageMath 10.1.beta2",
   "language": "sage",
   "name": "sagemath"
  },
  "language_info": {
   "codemirror_mode": {
    "name": "ipython",
    "version": 3
   },
   "file_extension": ".py",
   "mimetype": "text/x-python",
   "name": "sage",
   "nbconvert_exporter": "python",
   "pygments_lexer": "ipython3",
   "version": "3.10.6"
  },
  "orig_nbformat": 4
 },
 "nbformat": 4,
 "nbformat_minor": 2
}
