{
 "cells": [
  {
   "attachments": {},
   "cell_type": "markdown",
   "metadata": {},
   "source": [
    "# Lemma 5.3 Examples\n",
    "\n",
    "Lemma 5.3 gives properties on the Hermite normal form basis $e_{ij}$ of any maximal order $\\mathcal{O}\\subset B_{p,\\infty}$. We check the following properties:  \n",
    "  \n",
    "Property 2 - Denominators of $e_{ij}$ divide $K\\cdot N(I)$ where $K=2,4,2q$ if $p \\equiv 3 \\mod 4$, or $p \\equiv 5 \\mod 8$, or $p \\equiv 1 \\mod 8$ respectively, and where $N(I)$ is the norm of a connecting ideal.  \n",
    "Property 3 - $e_{00} = \\frac{1}{2}$  \n",
    "Property 4 - $e_{22}e_{33} \\leq N(I)$  \n",
    "Property 5 - $e_{01} = 0$ or $1/(2Ke_{22}e_{33})$  \n",
    "  \n",
    "From experimentation the results we get are even nicer than these. We have tested them for a range of orders for each modulo condition on $p$, these are some examples."
   ]
  },
  {
   "attachments": {},
   "cell_type": "markdown",
   "metadata": {},
   "source": [
    "### $p \\equiv 3 \\mod 4$"
   ]
  },
  {
   "cell_type": "code",
   "execution_count": 1,
   "metadata": {},
   "outputs": [
    {
     "name": "stdout",
     "output_type": "stream",
     "text": [
      "(1/2 + 13/2*j + 19*k, 1/858*i + 1714/429*j + 641/66*k, 13*j + 5*k, 33*k)\n",
      "429\n"
     ]
    }
   ],
   "source": [
    "p = 1000003\n",
    "B.<i,j,k> = QuaternionAlgebra(-1, -p)\n",
    "O_0 = B.maximal_order() # Sage picks the same choice of O_0 as we give in the paper\n",
    "O = B.quaternion_order([1/2 + 13/2*j + 19*k, 1/858*i + 1714/429*j + 641/66*k, 13*j + 5*k, 33*k])\n",
    "print(O.basis())\n",
    "I = (O_0 * O) * (1/(O_0 * O).norm()) # connecting ideal\n",
    "print(I.norm())"
   ]
  },
  {
   "attachments": {},
   "cell_type": "markdown",
   "metadata": {},
   "source": [
    "Notice the properties hold.  \n",
    "(2) Correct. Even better the denominator $K\\cdot N(I)$ appears, not just factors of it. We have $K=2$ hence $K\\cdot N(I) = 2*429=858$.  \n",
    "(3) Correct.  \n",
    "(4) Correct, in fact we always get equality $e_{22} e_{33} = N(I)$.  \n",
    "(5) Correct, in fact we always get $e_{01} = 0$."
   ]
  },
  {
   "attachments": {},
   "cell_type": "markdown",
   "metadata": {},
   "source": [
    "### $p \\equiv 5 \\mod 8$"
   ]
  },
  {
   "cell_type": "code",
   "execution_count": 2,
   "metadata": {},
   "outputs": [
    {
     "name": "stdout",
     "output_type": "stream",
     "text": [
      "(1/2 + 1/2*j + 19/2*k, 1/44*i + 21/22*j + 29/44*k, j + 8*k, 11*k)\n",
      "11\n"
     ]
    }
   ],
   "source": [
    "p = 509\n",
    "B.<i,j,k> = QuaternionAlgebra(-2, -p)\n",
    "O_0 = B.quaternion_order([(1+j+k)/2, (i+2*j+k)/4, j, k])\n",
    "O = B.quaternion_order([ 1/2 + 1/2*j + 19/2*k, 1/44*i + 21/22*j + 29/44*k, j + 8*k, 11*k ])\n",
    "print(O.basis())\n",
    "I = (O_0 * O) * (1/(O_0 * O).norm())\n",
    "print(I.norm())"
   ]
  },
  {
   "attachments": {},
   "cell_type": "markdown",
   "metadata": {},
   "source": [
    "(2) Correct. Again we have the stronger property that the denominator $K\\cdot N(I) = 4\\cdot 11 = 44$ appears, not just factors of it.    \n",
    "(3) Correct.  \n",
    "(4) Correct, in fact we always get equality $e_{22} e_{33} = N(I)$ .   \n",
    "(5) Correct, in fact we always get $e_{01} = 0$."
   ]
  },
  {
   "attachments": {},
   "cell_type": "markdown",
   "metadata": {},
   "source": [
    "### $p \\equiv 1 \\mod 8$"
   ]
  },
  {
   "cell_type": "code",
   "execution_count": 3,
   "metadata": {},
   "outputs": [
    {
     "name": "stdout",
     "output_type": "stream",
     "text": [
      "(1/2 + 1/110*i + 24/55*k, 1/55*i + 48/55*k, 1/2*j + 5/2*k, 5*k)\n",
      "5\n"
     ]
    }
   ],
   "source": [
    "p = 2081\n",
    "# a should be prime 3 mod 4, where legendre (a / p) = -1\n",
    "a = 11\n",
    "# need c such that a | c^2 p + 1\n",
    "c = 4\n",
    "\n",
    "B.<i,j,k> = QuaternionAlgebra(-a, -p)\n",
    "O_0 = B.quaternion_order([(1+i)/2, (j+k)/2, (i+c*k)/a, k])\n",
    "O = B.quaternion_order([ 1/2 + 1/110*i + 24/55*k, 1/55*i + 48/55*k, 1/2*j + 5/2*k, 5*k ])\n",
    "print(O.basis())\n",
    "I = (O_0 * O) * (1/(O_0 * O).norm()) # connecting ideal\n",
    "print(I.norm())"
   ]
  },
  {
   "attachments": {},
   "cell_type": "markdown",
   "metadata": {},
   "source": [
    "(2) Correct. Again we have the stronger property that the denominator $K\\cdot N(I)=2|a|\\cdot N(I) = 22\\cdot 5 = 110$ appears, not just factors of it.    \n",
    "(3) Correct.  \n",
    "(4) Correct, we do have $e_{22} e_{33} \\leq N(I)$ but actually have $e_{22} e_{33} = N(I)/2$. The factor of $1/2$ is likely from the choice of $\\mathcal{O}_0$.  \n",
    "(5) Correct, in fact we always get $e_{01} = 1/(2Ke_{22}e_{33})$."
   ]
  }
 ],
 "metadata": {
  "kernelspec": {
   "display_name": "SageMath 9.7",
   "language": "sage",
   "name": "sagemath"
  },
  "language_info": {
   "codemirror_mode": {
    "name": "ipython",
    "version": 3
   },
   "file_extension": ".py",
   "mimetype": "text/x-python",
   "name": "python",
   "nbconvert_exporter": "python",
   "pygments_lexer": "ipython3",
   "version": "3.10.6"
  },
  "orig_nbformat": 4
 },
 "nbformat": 4,
 "nbformat_minor": 2
}
